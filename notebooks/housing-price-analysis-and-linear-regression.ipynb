{
 "cells": [
  {
   "cell_type": "markdown",
   "id": "73a6b4d0",
   "metadata": {
    "papermill": {
     "duration": 0.041627,
     "end_time": "2022-03-17T12:53:50.419660",
     "exception": false,
     "start_time": "2022-03-17T12:53:50.378033",
     "status": "completed"
    },
    "tags": []
   },
   "source": [
    "This is a snapshot of a dataset created by Tony Pino.\n",
    "\n",
    "It was scraped from publicly available results posted every week from Domain.com.au. He cleaned it well, and now it's up to you to make data analysis magic. The dataset includes Address, Type of Real estate, Suburb, Method of Selling, Rooms, Price, Real Estate Agent, Date of Sale and distance from C.B.D.\n",
    "\n",
    "https://towardsdatascience.com/predicting-house-prices-with-linear-regression-machine-learning-from-scratch-part-ii-47a0238aeac1"
   ]
  },
  {
   "cell_type": "code",
   "execution_count": 1,
   "id": "d05855dc",
   "metadata": {
    "_cell_guid": "b1076dfc-b9ad-4769-8c92-a6c4dae69d19",
    "_uuid": "8f2839f25d086af736a60e9eeb907d3b93b6e0e5",
    "execution": {
     "iopub.execute_input": "2022-03-17T12:53:50.514600Z",
     "iopub.status.busy": "2022-03-17T12:53:50.513941Z",
     "iopub.status.idle": "2022-03-17T12:53:51.476466Z",
     "shell.execute_reply": "2022-03-17T12:53:51.477027Z",
     "shell.execute_reply.started": "2022-03-17T12:53:10.423535Z"
    },
    "papermill": {
     "duration": 1.014515,
     "end_time": "2022-03-17T12:53:51.477324",
     "exception": false,
     "start_time": "2022-03-17T12:53:50.462809",
     "status": "completed"
    },
    "tags": []
   },
   "outputs": [
    {
     "name": "stdout",
     "output_type": "stream",
     "text": [
      "/kaggle/input/house-prices-advanced-regression-techniques/sample_submission.csv\n",
      "/kaggle/input/house-prices-advanced-regression-techniques/data_description.txt\n",
      "/kaggle/input/house-prices-advanced-regression-techniques/train.csv\n",
      "/kaggle/input/house-prices-advanced-regression-techniques/test.csv\n"
     ]
    }
   ],
   "source": [
    "# This Python 3 environment comes with many helpful analytics libraries installed\n",
    "# It is defined by the kaggle/python Docker image: https://github.com/kaggle/docker-python\n",
    "# For example, here's several helpful packages to load\n",
    "\n",
    "import numpy as np # linear algebra\n",
    "import pandas as pd # data processing, CSV file I/O (e.g. pd.read_csv)\n",
    "import seaborn as sns\n",
    "import matplotlib.pyplot as plt\n",
    "\n",
    "# Input data files are available in the read-only \"../input/\" directory\n",
    "# For example, running this (by clicking run or pressing Shift+Enter) will list all files under the input directory\n",
    "\n",
    "import os\n",
    "for dirname, _, filenames in os.walk('/kaggle/input'):\n",
    "    for filename in filenames:\n",
    "        print(os.path.join(dirname, filename))\n",
    "\n",
    "# You can write up to 20GB to the current directory (/kaggle/working/) that gets preserved as output when you create a version using \"Save & Run All\" \n",
    "# You can also write temporary files to /kaggle/temp/, but they won't be saved outside of the current session"
   ]
  },
  {
   "cell_type": "code",
   "execution_count": 2,
   "id": "846e0457",
   "metadata": {
    "execution": {
     "iopub.execute_input": "2022-03-17T12:53:51.562952Z",
     "iopub.status.busy": "2022-03-17T12:53:51.561958Z",
     "iopub.status.idle": "2022-03-17T12:53:51.622633Z",
     "shell.execute_reply": "2022-03-17T12:53:51.623151Z",
     "shell.execute_reply.started": "2022-03-17T12:53:10.438605Z"
    },
    "papermill": {
     "duration": 0.104804,
     "end_time": "2022-03-17T12:53:51.623320",
     "exception": false,
     "start_time": "2022-03-17T12:53:51.518516",
     "status": "completed"
    },
    "tags": []
   },
   "outputs": [
    {
     "data": {
      "text/plain": [
       "(1460, 80)"
      ]
     },
     "execution_count": 2,
     "metadata": {},
     "output_type": "execute_result"
    }
   ],
   "source": [
    "# Load Housing Data into dataframe\n",
    "df = pd.read_csv(os.path.join(dirname, 'train.csv'), index_col='Id')\n",
    "df.shape"
   ]
  },
  {
   "cell_type": "code",
   "execution_count": 3,
   "id": "dedccdcd",
   "metadata": {
    "execution": {
     "iopub.execute_input": "2022-03-17T12:53:51.712683Z",
     "iopub.status.busy": "2022-03-17T12:53:51.711568Z",
     "iopub.status.idle": "2022-03-17T12:53:51.715538Z",
     "shell.execute_reply": "2022-03-17T12:53:51.715042Z",
     "shell.execute_reply.started": "2022-03-17T12:53:10.496587Z"
    },
    "papermill": {
     "duration": 0.050753,
     "end_time": "2022-03-17T12:53:51.715678",
     "exception": false,
     "start_time": "2022-03-17T12:53:51.664925",
     "status": "completed"
    },
    "tags": []
   },
   "outputs": [
    {
     "name": "stdout",
     "output_type": "stream",
     "text": [
      "Index(['MSSubClass', 'MSZoning', 'LotFrontage', 'LotArea', 'Street', 'Alley',\n",
      "       'LotShape', 'LandContour', 'Utilities', 'LotConfig', 'LandSlope',\n",
      "       'Neighborhood', 'Condition1', 'Condition2', 'BldgType', 'HouseStyle',\n",
      "       'OverallQual', 'OverallCond', 'YearBuilt', 'YearRemodAdd', 'RoofStyle',\n",
      "       'RoofMatl', 'Exterior1st', 'Exterior2nd', 'MasVnrType', 'MasVnrArea',\n",
      "       'ExterQual', 'ExterCond', 'Foundation', 'BsmtQual', 'BsmtCond',\n",
      "       'BsmtExposure', 'BsmtFinType1', 'BsmtFinSF1', 'BsmtFinType2',\n",
      "       'BsmtFinSF2', 'BsmtUnfSF', 'TotalBsmtSF', 'Heating', 'HeatingQC',\n",
      "       'CentralAir', 'Electrical', '1stFlrSF', '2ndFlrSF', 'LowQualFinSF',\n",
      "       'GrLivArea', 'BsmtFullBath', 'BsmtHalfBath', 'FullBath', 'HalfBath',\n",
      "       'BedroomAbvGr', 'KitchenAbvGr', 'KitchenQual', 'TotRmsAbvGrd',\n",
      "       'Functional', 'Fireplaces', 'FireplaceQu', 'GarageType', 'GarageYrBlt',\n",
      "       'GarageFinish', 'GarageCars', 'GarageArea', 'GarageQual', 'GarageCond',\n",
      "       'PavedDrive', 'WoodDeckSF', 'OpenPorchSF', 'EnclosedPorch', '3SsnPorch',\n",
      "       'ScreenPorch', 'PoolArea', 'PoolQC', 'Fence', 'MiscFeature', 'MiscVal',\n",
      "       'MoSold', 'YrSold', 'SaleType', 'SaleCondition', 'SalePrice'],\n",
      "      dtype='object')\n"
     ]
    }
   ],
   "source": [
    "# Look at the df columns\n",
    "print(df.columns)"
   ]
  },
  {
   "cell_type": "code",
   "execution_count": 4,
   "id": "ca514e25",
   "metadata": {
    "execution": {
     "iopub.execute_input": "2022-03-17T12:53:51.808369Z",
     "iopub.status.busy": "2022-03-17T12:53:51.807367Z",
     "iopub.status.idle": "2022-03-17T12:53:51.809387Z",
     "shell.execute_reply": "2022-03-17T12:53:51.809918Z",
     "shell.execute_reply.started": "2022-03-17T12:53:10.504887Z"
    },
    "papermill": {
     "duration": 0.050191,
     "end_time": "2022-03-17T12:53:51.810080",
     "exception": false,
     "start_time": "2022-03-17T12:53:51.759889",
     "status": "completed"
    },
    "tags": []
   },
   "outputs": [],
   "source": [
    "# Adding target_label for independent feature column name\n",
    "target_label = 'SalePrice'"
   ]
  },
  {
   "cell_type": "code",
   "execution_count": 5,
   "id": "acaf9dba",
   "metadata": {
    "execution": {
     "iopub.execute_input": "2022-03-17T12:53:51.898256Z",
     "iopub.status.busy": "2022-03-17T12:53:51.895677Z",
     "iopub.status.idle": "2022-03-17T12:53:51.988152Z",
     "shell.execute_reply": "2022-03-17T12:53:51.987443Z",
     "shell.execute_reply.started": "2022-03-17T12:53:10.523566Z"
    },
    "papermill": {
     "duration": 0.136589,
     "end_time": "2022-03-17T12:53:51.988299",
     "exception": false,
     "start_time": "2022-03-17T12:53:51.851710",
     "status": "completed"
    },
    "tags": []
   },
   "outputs": [
    {
     "name": "stdout",
     "output_type": "stream",
     "text": [
      "        MSSubClass  LotFrontage        LotArea  OverallQual  OverallCond  \\\n",
      "count  1460.000000  1201.000000    1460.000000  1460.000000  1460.000000   \n",
      "mean     56.897260    70.049958   10516.828082     6.099315     5.575342   \n",
      "std      42.300571    24.284752    9981.264932     1.382997     1.112799   \n",
      "min      20.000000    21.000000    1300.000000     1.000000     1.000000   \n",
      "25%      20.000000    59.000000    7553.500000     5.000000     5.000000   \n",
      "50%      50.000000    69.000000    9478.500000     6.000000     5.000000   \n",
      "75%      70.000000    80.000000   11601.500000     7.000000     6.000000   \n",
      "max     190.000000   313.000000  215245.000000    10.000000     9.000000   \n",
      "\n",
      "         YearBuilt  YearRemodAdd   MasVnrArea   BsmtFinSF1   BsmtFinSF2  ...  \\\n",
      "count  1460.000000   1460.000000  1452.000000  1460.000000  1460.000000  ...   \n",
      "mean   1971.267808   1984.865753   103.685262   443.639726    46.549315  ...   \n",
      "std      30.202904     20.645407   181.066207   456.098091   161.319273  ...   \n",
      "min    1872.000000   1950.000000     0.000000     0.000000     0.000000  ...   \n",
      "25%    1954.000000   1967.000000     0.000000     0.000000     0.000000  ...   \n",
      "50%    1973.000000   1994.000000     0.000000   383.500000     0.000000  ...   \n",
      "75%    2000.000000   2004.000000   166.000000   712.250000     0.000000  ...   \n",
      "max    2010.000000   2010.000000  1600.000000  5644.000000  1474.000000  ...   \n",
      "\n",
      "        WoodDeckSF  OpenPorchSF  EnclosedPorch    3SsnPorch  ScreenPorch  \\\n",
      "count  1460.000000  1460.000000    1460.000000  1460.000000  1460.000000   \n",
      "mean     94.244521    46.660274      21.954110     3.409589    15.060959   \n",
      "std     125.338794    66.256028      61.119149    29.317331    55.757415   \n",
      "min       0.000000     0.000000       0.000000     0.000000     0.000000   \n",
      "25%       0.000000     0.000000       0.000000     0.000000     0.000000   \n",
      "50%       0.000000    25.000000       0.000000     0.000000     0.000000   \n",
      "75%     168.000000    68.000000       0.000000     0.000000     0.000000   \n",
      "max     857.000000   547.000000     552.000000   508.000000   480.000000   \n",
      "\n",
      "          PoolArea       MiscVal       MoSold       YrSold      SalePrice  \n",
      "count  1460.000000   1460.000000  1460.000000  1460.000000    1460.000000  \n",
      "mean      2.758904     43.489041     6.321918  2007.815753  180921.195890  \n",
      "std      40.177307    496.123024     2.703626     1.328095   79442.502883  \n",
      "min       0.000000      0.000000     1.000000  2006.000000   34900.000000  \n",
      "25%       0.000000      0.000000     5.000000  2007.000000  129975.000000  \n",
      "50%       0.000000      0.000000     6.000000  2008.000000  163000.000000  \n",
      "75%       0.000000      0.000000     8.000000  2009.000000  214000.000000  \n",
      "max     738.000000  15500.000000    12.000000  2010.000000  755000.000000  \n",
      "\n",
      "[8 rows x 37 columns]\n"
     ]
    }
   ],
   "source": [
    "# Look at the quick description of dataframe\n",
    "print(df.describe())"
   ]
  },
  {
   "cell_type": "code",
   "execution_count": 6,
   "id": "171c61d2",
   "metadata": {
    "execution": {
     "iopub.execute_input": "2022-03-17T12:53:52.078031Z",
     "iopub.status.busy": "2022-03-17T12:53:52.074959Z",
     "iopub.status.idle": "2022-03-17T12:53:52.091580Z",
     "shell.execute_reply": "2022-03-17T12:53:52.092572Z",
     "shell.execute_reply.started": "2022-03-17T12:53:10.636243Z"
    },
    "papermill": {
     "duration": 0.06294,
     "end_time": "2022-03-17T12:53:52.092910",
     "exception": false,
     "start_time": "2022-03-17T12:53:52.029970",
     "status": "completed"
    },
    "tags": []
   },
   "outputs": [
    {
     "name": "stdout",
     "output_type": "stream",
     "text": [
      "    MSSubClass MSZoning  LotFrontage  LotArea Street Alley LotShape  \\\n",
      "Id                                                                    \n",
      "1           60       RL         65.0     8450   Pave   NaN      Reg   \n",
      "2           20       RL         80.0     9600   Pave   NaN      Reg   \n",
      "3           60       RL         68.0    11250   Pave   NaN      IR1   \n",
      "4           70       RL         60.0     9550   Pave   NaN      IR1   \n",
      "5           60       RL         84.0    14260   Pave   NaN      IR1   \n",
      "\n",
      "   LandContour Utilities LotConfig  ... PoolArea PoolQC Fence MiscFeature  \\\n",
      "Id                                  ...                                     \n",
      "1          Lvl    AllPub    Inside  ...        0    NaN   NaN         NaN   \n",
      "2          Lvl    AllPub       FR2  ...        0    NaN   NaN         NaN   \n",
      "3          Lvl    AllPub    Inside  ...        0    NaN   NaN         NaN   \n",
      "4          Lvl    AllPub    Corner  ...        0    NaN   NaN         NaN   \n",
      "5          Lvl    AllPub       FR2  ...        0    NaN   NaN         NaN   \n",
      "\n",
      "   MiscVal MoSold  YrSold  SaleType  SaleCondition  SalePrice  \n",
      "Id                                                             \n",
      "1        0      2    2008        WD         Normal     208500  \n",
      "2        0      5    2007        WD         Normal     181500  \n",
      "3        0      9    2008        WD         Normal     223500  \n",
      "4        0      2    2006        WD        Abnorml     140000  \n",
      "5        0     12    2008        WD         Normal     250000  \n",
      "\n",
      "[5 rows x 80 columns]\n"
     ]
    }
   ],
   "source": [
    "# Look at the df head \n",
    "print(df.head())"
   ]
  },
  {
   "cell_type": "code",
   "execution_count": 7,
   "id": "ce4e1c61",
   "metadata": {
    "execution": {
     "iopub.execute_input": "2022-03-17T12:53:52.183028Z",
     "iopub.status.busy": "2022-03-17T12:53:52.182337Z",
     "iopub.status.idle": "2022-03-17T12:53:52.196774Z",
     "shell.execute_reply": "2022-03-17T12:53:52.197549Z",
     "shell.execute_reply.started": "2022-03-17T12:53:10.658740Z"
    },
    "papermill": {
     "duration": 0.061242,
     "end_time": "2022-03-17T12:53:52.197772",
     "exception": false,
     "start_time": "2022-03-17T12:53:52.136530",
     "status": "completed"
    },
    "tags": []
   },
   "outputs": [
    {
     "name": "stdout",
     "output_type": "stream",
     "text": [
      "      MSSubClass MSZoning  LotFrontage  LotArea Street Alley LotShape  \\\n",
      "Id                                                                      \n",
      "1456          60       RL         62.0     7917   Pave   NaN      Reg   \n",
      "1457          20       RL         85.0    13175   Pave   NaN      Reg   \n",
      "1458          70       RL         66.0     9042   Pave   NaN      Reg   \n",
      "1459          20       RL         68.0     9717   Pave   NaN      Reg   \n",
      "1460          20       RL         75.0     9937   Pave   NaN      Reg   \n",
      "\n",
      "     LandContour Utilities LotConfig  ... PoolArea PoolQC  Fence MiscFeature  \\\n",
      "Id                                    ...                                      \n",
      "1456         Lvl    AllPub    Inside  ...        0    NaN    NaN         NaN   \n",
      "1457         Lvl    AllPub    Inside  ...        0    NaN  MnPrv         NaN   \n",
      "1458         Lvl    AllPub    Inside  ...        0    NaN  GdPrv        Shed   \n",
      "1459         Lvl    AllPub    Inside  ...        0    NaN    NaN         NaN   \n",
      "1460         Lvl    AllPub    Inside  ...        0    NaN    NaN         NaN   \n",
      "\n",
      "     MiscVal MoSold  YrSold  SaleType  SaleCondition  SalePrice  \n",
      "Id                                                               \n",
      "1456       0      8    2007        WD         Normal     175000  \n",
      "1457       0      2    2010        WD         Normal     210000  \n",
      "1458    2500      5    2010        WD         Normal     266500  \n",
      "1459       0      4    2010        WD         Normal     142125  \n",
      "1460       0      6    2008        WD         Normal     147500  \n",
      "\n",
      "[5 rows x 80 columns]\n"
     ]
    }
   ],
   "source": [
    "# Look at the df tail \n",
    "print(df.tail())"
   ]
  },
  {
   "cell_type": "code",
   "execution_count": 8,
   "id": "718a7403",
   "metadata": {
    "execution": {
     "iopub.execute_input": "2022-03-17T12:53:52.287152Z",
     "iopub.status.busy": "2022-03-17T12:53:52.286477Z",
     "iopub.status.idle": "2022-03-17T12:53:52.292709Z",
     "shell.execute_reply": "2022-03-17T12:53:52.293176Z",
     "shell.execute_reply.started": "2022-03-17T12:53:10.678258Z"
    },
    "papermill": {
     "duration": 0.051862,
     "end_time": "2022-03-17T12:53:52.293346",
     "exception": false,
     "start_time": "2022-03-17T12:53:52.241484",
     "status": "completed"
    },
    "tags": []
   },
   "outputs": [
    {
     "name": "stdout",
     "output_type": "stream",
     "text": [
      "MSSubClass         int64\n",
      "MSZoning          object\n",
      "LotFrontage      float64\n",
      "LotArea            int64\n",
      "Street            object\n",
      "                  ...   \n",
      "MoSold             int64\n",
      "YrSold             int64\n",
      "SaleType          object\n",
      "SaleCondition     object\n",
      "SalePrice          int64\n",
      "Length: 80, dtype: object\n"
     ]
    }
   ],
   "source": [
    "# Look at the datatype of each column\n",
    "print(df.dtypes)"
   ]
  },
  {
   "cell_type": "code",
   "execution_count": 9,
   "id": "a3bc007f",
   "metadata": {
    "execution": {
     "iopub.execute_input": "2022-03-17T12:53:52.390033Z",
     "iopub.status.busy": "2022-03-17T12:53:52.389201Z",
     "iopub.status.idle": "2022-03-17T12:53:52.392370Z",
     "shell.execute_reply": "2022-03-17T12:53:52.393105Z",
     "shell.execute_reply.started": "2022-03-17T12:53:10.699470Z"
    },
    "papermill": {
     "duration": 0.057006,
     "end_time": "2022-03-17T12:53:52.393329",
     "exception": false,
     "start_time": "2022-03-17T12:53:52.336323",
     "status": "completed"
    },
    "tags": []
   },
   "outputs": [
    {
     "name": "stdout",
     "output_type": "stream",
     "text": [
      "43\n",
      "37\n"
     ]
    }
   ],
   "source": [
    "# Find Categorical and numerical feature columns\n",
    "categorical_features = [col for col in df.columns if df[col].dtype=='object']\n",
    "numerical_features = list(set(df.columns) - set(categorical_features))\n",
    "print(len(categorical_features))\n",
    "print(len(numerical_features))"
   ]
  },
  {
   "cell_type": "code",
   "execution_count": 10,
   "id": "2351d2cb",
   "metadata": {
    "execution": {
     "iopub.execute_input": "2022-03-17T12:53:52.489723Z",
     "iopub.status.busy": "2022-03-17T12:53:52.488713Z",
     "iopub.status.idle": "2022-03-17T12:53:52.565473Z",
     "shell.execute_reply": "2022-03-17T12:53:52.566366Z",
     "shell.execute_reply.started": "2022-03-17T12:53:10.720266Z"
    },
    "papermill": {
     "duration": 0.128404,
     "end_time": "2022-03-17T12:53:52.566603",
     "exception": false,
     "start_time": "2022-03-17T12:53:52.438199",
     "status": "completed"
    },
    "tags": []
   },
   "outputs": [
    {
     "name": "stdout",
     "output_type": "stream",
     "text": [
      "       MSZoning Street Alley LotShape LandContour Utilities LotConfig  \\\n",
      "count      1460   1460    91     1460        1460      1460      1460   \n",
      "unique        5      2     2        4           4         2         5   \n",
      "top          RL   Pave  Grvl      Reg         Lvl    AllPub    Inside   \n",
      "freq       1151   1454    50      925        1311      1459      1052   \n",
      "\n",
      "       LandSlope Neighborhood Condition1  ... GarageType GarageFinish  \\\n",
      "count       1460         1460       1460  ...       1379         1379   \n",
      "unique         3           25          9  ...          6            3   \n",
      "top          Gtl        NAmes       Norm  ...     Attchd          Unf   \n",
      "freq        1382          225       1260  ...        870          605   \n",
      "\n",
      "       GarageQual GarageCond PavedDrive PoolQC  Fence MiscFeature SaleType  \\\n",
      "count        1379       1379       1460      7    281          54     1460   \n",
      "unique          5          5          3      3      4           4        9   \n",
      "top            TA         TA          Y     Gd  MnPrv        Shed       WD   \n",
      "freq         1311       1326       1340      3    157          49     1267   \n",
      "\n",
      "       SaleCondition  \n",
      "count           1460  \n",
      "unique             6  \n",
      "top           Normal  \n",
      "freq            1198  \n",
      "\n",
      "[4 rows x 43 columns]\n"
     ]
    }
   ],
   "source": [
    "# Data description of categorical features\n",
    "print(df[categorical_features].describe())"
   ]
  },
  {
   "cell_type": "code",
   "execution_count": 11,
   "id": "ac14b752",
   "metadata": {
    "execution": {
     "iopub.execute_input": "2022-03-17T12:53:52.663948Z",
     "iopub.status.busy": "2022-03-17T12:53:52.663262Z",
     "iopub.status.idle": "2022-03-17T12:53:53.067870Z",
     "shell.execute_reply": "2022-03-17T12:53:53.067330Z",
     "shell.execute_reply.started": "2022-03-17T12:53:10.829757Z"
    },
    "papermill": {
     "duration": 0.456396,
     "end_time": "2022-03-17T12:53:53.068026",
     "exception": false,
     "start_time": "2022-03-17T12:53:52.611630",
     "status": "completed"
    },
    "tags": []
   },
   "outputs": [
    {
     "data": {
      "text/plain": [
       "<AxesSubplot:xlabel='SalePrice', ylabel='Count'>"
      ]
     },
     "execution_count": 11,
     "metadata": {},
     "output_type": "execute_result"
    },
    {
     "data": {
      "image/png": "[encoded data removed]",
      "text/plain": [
       "<Figure size 1296x432 with 1 Axes>"
      ]
     },
     "metadata": {
      "needs_background": "light"
     },
     "output_type": "display_data"
    }
   ],
   "source": [
    "fig = plt.figure(figsize=(18, 6))\n",
    "sns.histplot(df['SalePrice'], kde=True)"
   ]
  },
  {
   "cell_type": "markdown",
   "id": "9362117d",
   "metadata": {
    "papermill": {
     "duration": 0.045786,
     "end_time": "2022-03-17T12:53:53.160485",
     "exception": false,
     "start_time": "2022-03-17T12:53:53.114699",
     "status": "completed"
    },
    "tags": []
   },
   "source": [
    "Most of the density lies between 100k and 250k, but there appears to be a lot of outliers on the pricier side."
   ]
  },
  {
   "cell_type": "code",
   "execution_count": 12,
   "id": "c2ac1075",
   "metadata": {
    "execution": {
     "iopub.execute_input": "2022-03-17T12:53:53.256197Z",
     "iopub.status.busy": "2022-03-17T12:53:53.255198Z",
     "iopub.status.idle": "2022-03-17T12:53:53.696281Z",
     "shell.execute_reply": "2022-03-17T12:53:53.696813Z",
     "shell.execute_reply.started": "2022-03-17T12:53:11.255463Z"
    },
    "papermill": {
     "duration": 0.490492,
     "end_time": "2022-03-17T12:53:53.697030",
     "exception": false,
     "start_time": "2022-03-17T12:53:53.206538",
     "status": "completed"
    },
    "tags": []
   },
   "outputs": [
    {
     "data": {
      "text/plain": [
       "<AxesSubplot:xlabel='GrLivArea', ylabel='SalePrice'>"
      ]
     },
     "execution_count": 12,
     "metadata": {},
     "output_type": "execute_result"
    },
    {
     "data": {
      "image/png": "[encoded data removed]",
      "text/plain": [
       "<Figure size 864x432 with 1 Axes>"
      ]
     },
     "metadata": {
      "needs_background": "light"
     },
     "output_type": "display_data"
    }
   ],
   "source": [
    "fig = plt.figure(figsize=(12, 6))\n",
    "sns.regplot(x=df['GrLivArea'], y=df['SalePrice'])"
   ]
  },
  {
   "cell_type": "markdown",
   "id": "f493f63b",
   "metadata": {
    "papermill": {
     "duration": 0.047211,
     "end_time": "2022-03-17T12:53:53.791985",
     "exception": false,
     "start_time": "2022-03-17T12:53:53.744774",
     "status": "completed"
    },
    "tags": []
   },
   "source": [
    "You might’ve expected that larger living area should mean a higher price. This chart shows you’re generally correct. But what are those 2–3 “cheap” houses offering huge living area?"
   ]
  },
  {
   "cell_type": "markdown",
   "id": "84985617",
   "metadata": {
    "papermill": {
     "duration": 0.048792,
     "end_time": "2022-03-17T12:53:53.888759",
     "exception": false,
     "start_time": "2022-03-17T12:53:53.839967",
     "status": "completed"
    },
    "tags": []
   },
   "source": [
    "One column you might not think about exploring is the “TotalBsmtSF” — Total square feet of the basement area, but let’s do it anyway:"
   ]
  },
  {
   "cell_type": "code",
   "execution_count": 13,
   "id": "8edef3e7",
   "metadata": {
    "execution": {
     "iopub.execute_input": "2022-03-17T12:53:53.990127Z",
     "iopub.status.busy": "2022-03-17T12:53:53.989472Z",
     "iopub.status.idle": "2022-03-17T12:53:54.410207Z",
     "shell.execute_reply": "2022-03-17T12:53:54.410720Z",
     "shell.execute_reply.started": "2022-03-17T12:53:11.748171Z"
    },
    "papermill": {
     "duration": 0.472799,
     "end_time": "2022-03-17T12:53:54.410909",
     "exception": false,
     "start_time": "2022-03-17T12:53:53.938110",
     "status": "completed"
    },
    "tags": []
   },
   "outputs": [
    {
     "data": {
      "text/plain": [
       "<AxesSubplot:xlabel='TotalBsmtSF', ylabel='SalePrice'>"
      ]
     },
     "execution_count": 13,
     "metadata": {},
     "output_type": "execute_result"
    },
    {
     "data": {
      "image/png": "[encoded data removed]",
      "text/plain": [
       "<Figure size 864x432 with 1 Axes>"
      ]
     },
     "metadata": {
      "needs_background": "light"
     },
     "output_type": "display_data"
    }
   ],
   "source": [
    "fig = plt.figure(figsize=(12, 6))\n",
    "sns.regplot(x=df['TotalBsmtSF'], y=df['SalePrice'])"
   ]
  },
  {
   "cell_type": "markdown",
   "id": "e6f5b55a",
   "metadata": {
    "papermill": {
     "duration": 0.049553,
     "end_time": "2022-03-17T12:53:54.510469",
     "exception": false,
     "start_time": "2022-03-17T12:53:54.460916",
     "status": "completed"
    },
    "tags": []
   },
   "source": [
    "Intriguing, isn’t it? The basement area seems like it might have a lot of predictive power for our model."
   ]
  },
  {
   "cell_type": "code",
   "execution_count": 14,
   "id": "f7e0b078",
   "metadata": {
    "execution": {
     "iopub.execute_input": "2022-03-17T12:53:54.617221Z",
     "iopub.status.busy": "2022-03-17T12:53:54.616487Z",
     "iopub.status.idle": "2022-03-17T12:53:54.966661Z",
     "shell.execute_reply": "2022-03-17T12:53:54.966127Z",
     "shell.execute_reply.started": "2022-03-17T12:53:12.228801Z"
    },
    "papermill": {
     "duration": 0.406165,
     "end_time": "2022-03-17T12:53:54.966795",
     "exception": false,
     "start_time": "2022-03-17T12:53:54.560630",
     "status": "completed"
    },
    "tags": []
   },
   "outputs": [
    {
     "data": {
      "text/plain": [
       "<AxesSubplot:xlabel='OverallQual', ylabel='SalePrice'>"
      ]
     },
     "execution_count": 14,
     "metadata": {},
     "output_type": "execute_result"
    },
    {
     "data": {
      "image/png": "[encoded data removed]",
      "text/plain": [
       "<Figure size 864x432 with 1 Axes>"
      ]
     },
     "metadata": {
      "needs_background": "light"
     },
     "output_type": "display_data"
    }
   ],
   "source": [
    "fig = plt.figure(figsize=(12, 6))\n",
    "sns.boxplot(x=df['OverallQual'], y=df['SalePrice'])"
   ]
  },
  {
   "cell_type": "markdown",
   "id": "797d801d",
   "metadata": {
    "papermill": {
     "duration": 0.052189,
     "end_time": "2022-03-17T12:53:55.071311",
     "exception": false,
     "start_time": "2022-03-17T12:53:55.019122",
     "status": "completed"
    },
    "tags": []
   },
   "source": [
    "Everything seems fine for this one, except that when you look to the right things start getting much more nuanced. Will that “confuse” our model?"
   ]
  },
  {
   "cell_type": "markdown",
   "id": "1241505f",
   "metadata": {
    "papermill": {
     "duration": 0.051856,
     "end_time": "2022-03-17T12:53:55.174572",
     "exception": false,
     "start_time": "2022-03-17T12:53:55.122716",
     "status": "completed"
    },
    "tags": []
   },
   "source": [
    "Let’s have a more general view on the top 10 correlated features with dependent/independent features:"
   ]
  },
  {
   "cell_type": "code",
   "execution_count": 15,
   "id": "082e4827",
   "metadata": {
    "execution": {
     "iopub.execute_input": "2022-03-17T12:53:55.280728Z",
     "iopub.status.busy": "2022-03-17T12:53:55.280105Z",
     "iopub.status.idle": "2022-03-17T12:53:55.686656Z",
     "shell.execute_reply": "2022-03-17T12:53:55.686020Z",
     "shell.execute_reply.started": "2022-03-17T12:53:12.623413Z"
    },
    "papermill": {
     "duration": 0.46027,
     "end_time": "2022-03-17T12:53:55.686815",
     "exception": false,
     "start_time": "2022-03-17T12:53:55.226545",
     "status": "completed"
    },
    "tags": []
   },
   "outputs": [
    {
     "data": {
      "text/plain": [
       "<AxesSubplot:xlabel='B', ylabel='A'>"
      ]
     },
     "execution_count": 15,
     "metadata": {},
     "output_type": "execute_result"
    },
    {
     "data": {
      "image/png": "[encoded data removed]",
      "text/plain": [
       "<Figure size 432x432 with 2 Axes>"
      ]
     },
     "metadata": {
      "needs_background": "light"
     },
     "output_type": "display_data"
    }
   ],
   "source": [
    "fig = plt.figure(figsize=(6, 6))\n",
    "df_corr = df.corr().abs()\n",
    "df_corr_sorted = df_corr.unstack().sort_values(ascending=False).drop_duplicates()\n",
    "df_corr_sorted = pd.DataFrame(df_corr_sorted).reset_index()\n",
    "# Adding dummy columns name for pivoting\n",
    "df_corr_sorted.columns = ['A', 'B', 'C']\n",
    "sns.heatmap(df_corr_sorted[:10].pivot(values='C', index='A', columns='B'), annot=True, fmt='.2f')"
   ]
  },
  {
   "cell_type": "markdown",
   "id": "8ea2adcd",
   "metadata": {
    "papermill": {
     "duration": 0.056602,
     "end_time": "2022-03-17T12:53:55.797633",
     "exception": false,
     "start_time": "2022-03-17T12:53:55.741031",
     "status": "completed"
    },
    "tags": []
   },
   "source": [
    "Let’s have a more general view on the top 10 correlated features with independent feature i.e. SalePrice:"
   ]
  },
  {
   "cell_type": "code",
   "execution_count": 16,
   "id": "61fb0128",
   "metadata": {
    "execution": {
     "iopub.execute_input": "2022-03-17T12:53:55.908913Z",
     "iopub.status.busy": "2022-03-17T12:53:55.908233Z",
     "iopub.status.idle": "2022-03-17T12:53:56.859779Z",
     "shell.execute_reply": "2022-03-17T12:53:56.860326Z",
     "shell.execute_reply.started": "2022-03-17T12:53:13.083040Z"
    },
    "papermill": {
     "duration": 1.009131,
     "end_time": "2022-03-17T12:53:56.860503",
     "exception": false,
     "start_time": "2022-03-17T12:53:55.851372",
     "status": "completed"
    },
    "tags": []
   },
   "outputs": [
    {
     "data": {
      "text/plain": [
       "<AxesSubplot:>"
      ]
     },
     "execution_count": 16,
     "metadata": {},
     "output_type": "execute_result"
    },
    {
     "data": {
      "image/png": "[encoded data removed]",
      "text/plain": [
       "<Figure size 720x720 with 2 Axes>"
      ]
     },
     "metadata": {
      "needs_background": "light"
     },
     "output_type": "display_data"
    }
   ],
   "source": [
    "fig = plt.figure(figsize=(10, 10))\n",
    "df_corr = df.corr().abs()\n",
    "df_corr_sorted = df_corr.unstack().sort_values(ascending=False).drop_duplicates()\n",
    "df_corr_sorted = pd.DataFrame(df_corr_sorted).reset_index()\n",
    "# Adding dummy columns name for pivoting\n",
    "df_corr_sorted.columns = ['A', 'B', 'C']\n",
    "top_corr_features_with_target = df_corr_sorted[df_corr_sorted['B']=='SalePrice'][:10]['A']\n",
    "sns.heatmap(pd.DataFrame(df_corr[top_corr_features_with_target]).loc[top_corr_features_with_target, top_corr_features_with_target], annot=True, fmt='.2f')"
   ]
  },
  {
   "cell_type": "markdown",
   "id": "939535ec",
   "metadata": {
    "papermill": {
     "duration": 0.05602,
     "end_time": "2022-03-17T12:53:56.973106",
     "exception": false,
     "start_time": "2022-03-17T12:53:56.917086",
     "status": "completed"
    },
    "tags": []
   },
   "source": [
    "Do we have missing values?"
   ]
  },
  {
   "cell_type": "code",
   "execution_count": 17,
   "id": "664fb25e",
   "metadata": {
    "execution": {
     "iopub.execute_input": "2022-03-17T12:53:57.089374Z",
     "iopub.status.busy": "2022-03-17T12:53:57.088453Z",
     "iopub.status.idle": "2022-03-17T12:53:57.112495Z",
     "shell.execute_reply": "2022-03-17T12:53:57.113066Z",
     "shell.execute_reply.started": "2022-03-17T12:53:14.003206Z"
    },
    "papermill": {
     "duration": 0.083842,
     "end_time": "2022-03-17T12:53:57.113240",
     "exception": false,
     "start_time": "2022-03-17T12:53:57.029398",
     "status": "completed"
    },
    "tags": []
   },
   "outputs": [
    {
     "name": "stdout",
     "output_type": "stream",
     "text": [
      "<class 'pandas.core.frame.DataFrame'>\n",
      "Int64Index: 1460 entries, 1 to 1460\n",
      "Data columns (total 80 columns):\n",
      " #   Column         Non-Null Count  Dtype  \n",
      "---  ------         --------------  -----  \n",
      " 0   MSSubClass     1460 non-null   int64  \n",
      " 1   MSZoning       1460 non-null   object \n",
      " 2   LotFrontage    1201 non-null   float64\n",
      " 3   LotArea        1460 non-null   int64  \n",
      " 4   Street         1460 non-null   object \n",
      " 5   Alley          91 non-null     object \n",
      " 6   LotShape       1460 non-null   object \n",
      " 7   LandContour    1460 non-null   object \n",
      " 8   Utilities      1460 non-null   object \n",
      " 9   LotConfig      1460 non-null   object \n",
      " 10  LandSlope      1460 non-null   object \n",
      " 11  Neighborhood   1460 non-null   object \n",
      " 12  Condition1     1460 non-null   object \n",
      " 13  Condition2     1460 non-null   object \n",
      " 14  BldgType       1460 non-null   object \n",
      " 15  HouseStyle     1460 non-null   object \n",
      " 16  OverallQual    1460 non-null   int64  \n",
      " 17  OverallCond    1460 non-null   int64  \n",
      " 18  YearBuilt      1460 non-null   int64  \n",
      " 19  YearRemodAdd   1460 non-null   int64  \n",
      " 20  RoofStyle      1460 non-null   object \n",
      " 21  RoofMatl       1460 non-null   object \n",
      " 22  Exterior1st    1460 non-null   object \n",
      " 23  Exterior2nd    1460 non-null   object \n",
      " 24  MasVnrType     1452 non-null   object \n",
      " 25  MasVnrArea     1452 non-null   float64\n",
      " 26  ExterQual      1460 non-null   object \n",
      " 27  ExterCond      1460 non-null   object \n",
      " 28  Foundation     1460 non-null   object \n",
      " 29  BsmtQual       1423 non-null   object \n",
      " 30  BsmtCond       1423 non-null   object \n",
      " 31  BsmtExposure   1422 non-null   object \n",
      " 32  BsmtFinType1   1423 non-null   object \n",
      " 33  BsmtFinSF1     1460 non-null   int64  \n",
      " 34  BsmtFinType2   1422 non-null   object \n",
      " 35  BsmtFinSF2     1460 non-null   int64  \n",
      " 36  BsmtUnfSF      1460 non-null   int64  \n",
      " 37  TotalBsmtSF    1460 non-null   int64  \n",
      " 38  Heating        1460 non-null   object \n",
      " 39  HeatingQC      1460 non-null   object \n",
      " 40  CentralAir     1460 non-null   object \n",
      " 41  Electrical     1459 non-null   object \n",
      " 42  1stFlrSF       1460 non-null   int64  \n",
      " 43  2ndFlrSF       1460 non-null   int64  \n",
      " 44  LowQualFinSF   1460 non-null   int64  \n",
      " 45  GrLivArea      1460 non-null   int64  \n",
      " 46  BsmtFullBath   1460 non-null   int64  \n",
      " 47  BsmtHalfBath   1460 non-null   int64  \n",
      " 48  FullBath       1460 non-null   int64  \n",
      " 49  HalfBath       1460 non-null   int64  \n",
      " 50  BedroomAbvGr   1460 non-null   int64  \n",
      " 51  KitchenAbvGr   1460 non-null   int64  \n",
      " 52  KitchenQual    1460 non-null   object \n",
      " 53  TotRmsAbvGrd   1460 non-null   int64  \n",
      " 54  Functional     1460 non-null   object \n",
      " 55  Fireplaces     1460 non-null   int64  \n",
      " 56  FireplaceQu    770 non-null    object \n",
      " 57  GarageType     1379 non-null   object \n",
      " 58  GarageYrBlt    1379 non-null   float64\n",
      " 59  GarageFinish   1379 non-null   object \n",
      " 60  GarageCars     1460 non-null   int64  \n",
      " 61  GarageArea     1460 non-null   int64  \n",
      " 62  GarageQual     1379 non-null   object \n",
      " 63  GarageCond     1379 non-null   object \n",
      " 64  PavedDrive     1460 non-null   object \n",
      " 65  WoodDeckSF     1460 non-null   int64  \n",
      " 66  OpenPorchSF    1460 non-null   int64  \n",
      " 67  EnclosedPorch  1460 non-null   int64  \n",
      " 68  3SsnPorch      1460 non-null   int64  \n",
      " 69  ScreenPorch    1460 non-null   int64  \n",
      " 70  PoolArea       1460 non-null   int64  \n",
      " 71  PoolQC         7 non-null      object \n",
      " 72  Fence          281 non-null    object \n",
      " 73  MiscFeature    54 non-null     object \n",
      " 74  MiscVal        1460 non-null   int64  \n",
      " 75  MoSold         1460 non-null   int64  \n",
      " 76  YrSold         1460 non-null   int64  \n",
      " 77  SaleType       1460 non-null   object \n",
      " 78  SaleCondition  1460 non-null   object \n",
      " 79  SalePrice      1460 non-null   int64  \n",
      "dtypes: float64(3), int64(34), object(43)\n",
      "memory usage: 956.2+ KB\n"
     ]
    }
   ],
   "source": [
    "df.info()"
   ]
  },
  {
   "cell_type": "markdown",
   "id": "fb58451b",
   "metadata": {
    "papermill": {
     "duration": 0.056635,
     "end_time": "2022-03-17T12:53:57.226652",
     "exception": false,
     "start_time": "2022-03-17T12:53:57.170017",
     "status": "completed"
    },
    "tags": []
   },
   "source": [
    "1. Feature columns MiscFeature, Fence, PoolQC, FireplaceQul, Alley has >80% missing values. It'll be a good idea to drop those columns as they can add noise instead of adding value to the model.\n",
    "\n",
    "2. Removing Categorical features for now for simplicity."
   ]
  },
  {
   "cell_type": "code",
   "execution_count": 18,
   "id": "d8e15acc",
   "metadata": {
    "execution": {
     "iopub.execute_input": "2022-03-17T12:53:57.344302Z",
     "iopub.status.busy": "2022-03-17T12:53:57.343306Z",
     "iopub.status.idle": "2022-03-17T12:53:57.351569Z",
     "shell.execute_reply": "2022-03-17T12:53:57.352216Z",
     "shell.execute_reply.started": "2022-03-17T12:53:14.033013Z"
    },
    "papermill": {
     "duration": 0.068822,
     "end_time": "2022-03-17T12:53:57.352385",
     "exception": false,
     "start_time": "2022-03-17T12:53:57.283563",
     "status": "completed"
    },
    "tags": []
   },
   "outputs": [
    {
     "name": "stdout",
     "output_type": "stream",
     "text": [
      "Index(['MSSubClass', 'MSZoning', 'LotFrontage', 'LotArea', 'Street', 'Alley',\n",
      "       'LotShape', 'LandContour', 'Utilities', 'LotConfig', 'LandSlope',\n",
      "       'Neighborhood', 'Condition1', 'Condition2', 'BldgType', 'HouseStyle',\n",
      "       'OverallQual', 'OverallCond', 'YearBuilt', 'YearRemodAdd', 'RoofStyle',\n",
      "       'RoofMatl', 'Exterior1st', 'Exterior2nd', 'MasVnrType', 'MasVnrArea',\n",
      "       'ExterQual', 'ExterCond', 'Foundation', 'BsmtQual', 'BsmtCond',\n",
      "       'BsmtExposure', 'BsmtFinType1', 'BsmtFinSF1', 'BsmtFinType2',\n",
      "       'BsmtFinSF2', 'BsmtUnfSF', 'TotalBsmtSF', 'Heating', 'HeatingQC',\n",
      "       'CentralAir', 'Electrical', '1stFlrSF', '2ndFlrSF', 'LowQualFinSF',\n",
      "       'GrLivArea', 'BsmtFullBath', 'BsmtHalfBath', 'FullBath', 'HalfBath',\n",
      "       'BedroomAbvGr', 'KitchenAbvGr', 'KitchenQual', 'TotRmsAbvGrd',\n",
      "       'Functional', 'Fireplaces', 'FireplaceQu', 'GarageType', 'GarageYrBlt',\n",
      "       'GarageFinish', 'GarageCars', 'GarageArea', 'GarageQual', 'GarageCond',\n",
      "       'PavedDrive', 'WoodDeckSF', 'OpenPorchSF', 'EnclosedPorch', '3SsnPorch',\n",
      "       'ScreenPorch', 'PoolArea', 'PoolQC', 'Fence', 'MiscFeature', 'MiscVal',\n",
      "       'MoSold', 'YrSold', 'SaleType', 'SaleCondition', 'SalePrice'],\n",
      "      dtype='object')\n"
     ]
    }
   ],
   "source": [
    "print(df.columns)\n",
    "feature_col_drop = ['MiscFeature', 'Fence', 'PoolQC', 'FireplaceQu', 'Alley']\n",
    "df.drop(columns=feature_col_drop, inplace=True)\n",
    "\n",
    "# Not needed to remove here as we are selecting numerical features only before imputation.\n",
    "# df.drop(columns=categorical_features, inplace=True)\n",
    "\n",
    "# update numerical feature list\n",
    "numerical_features = list(set(numerical_features) - set(feature_col_drop))"
   ]
  },
  {
   "cell_type": "markdown",
   "id": "e6beb92e",
   "metadata": {
    "papermill": {
     "duration": 0.057111,
     "end_time": "2022-03-17T12:53:57.466958",
     "exception": false,
     "start_time": "2022-03-17T12:53:57.409847",
     "status": "completed"
    },
    "tags": []
   },
   "source": [
    "Imputing remaing missing values"
   ]
  },
  {
   "cell_type": "code",
   "execution_count": 19,
   "id": "1d240857",
   "metadata": {
    "execution": {
     "iopub.execute_input": "2022-03-17T12:53:57.587847Z",
     "iopub.status.busy": "2022-03-17T12:53:57.587216Z",
     "iopub.status.idle": "2022-03-17T12:53:58.483676Z",
     "shell.execute_reply": "2022-03-17T12:53:58.485218Z",
     "shell.execute_reply.started": "2022-03-17T12:53:14.047208Z"
    },
    "papermill": {
     "duration": 0.961284,
     "end_time": "2022-03-17T12:53:58.485684",
     "exception": false,
     "start_time": "2022-03-17T12:53:57.524400",
     "status": "completed"
    },
    "tags": []
   },
   "outputs": [
    {
     "name": "stdout",
     "output_type": "stream",
     "text": [
      "<class 'pandas.core.frame.DataFrame'>\n",
      "RangeIndex: 1460 entries, 0 to 1459\n",
      "Data columns (total 36 columns):\n",
      " #   Column         Non-Null Count  Dtype  \n",
      "---  ------         --------------  -----  \n",
      " 0   OverallQual    1460 non-null   float64\n",
      " 1   GarageCars     1460 non-null   float64\n",
      " 2   LotArea        1460 non-null   float64\n",
      " 3   BsmtFullBath   1460 non-null   float64\n",
      " 4   YearRemodAdd   1460 non-null   float64\n",
      " 5   BsmtHalfBath   1460 non-null   float64\n",
      " 6   GrLivArea      1460 non-null   float64\n",
      " 7   TotRmsAbvGrd   1460 non-null   float64\n",
      " 8   1stFlrSF       1460 non-null   float64\n",
      " 9   ScreenPorch    1460 non-null   float64\n",
      " 10  BsmtFinSF1     1460 non-null   float64\n",
      " 11  OpenPorchSF    1460 non-null   float64\n",
      " 12  Fireplaces     1460 non-null   float64\n",
      " 13  WoodDeckSF     1460 non-null   float64\n",
      " 14  GarageYrBlt    1460 non-null   float64\n",
      " 15  BsmtFinSF2     1460 non-null   float64\n",
      " 16  OverallCond    1460 non-null   float64\n",
      " 17  3SsnPorch      1460 non-null   float64\n",
      " 18  YrSold         1460 non-null   float64\n",
      " 19  HalfBath       1460 non-null   float64\n",
      " 20  MoSold         1460 non-null   float64\n",
      " 21  YearBuilt      1460 non-null   float64\n",
      " 22  KitchenAbvGr   1460 non-null   float64\n",
      " 23  PoolArea       1460 non-null   float64\n",
      " 24  BedroomAbvGr   1460 non-null   float64\n",
      " 25  MiscVal        1460 non-null   float64\n",
      " 26  LowQualFinSF   1460 non-null   float64\n",
      " 27  MasVnrArea     1460 non-null   float64\n",
      " 28  EnclosedPorch  1460 non-null   float64\n",
      " 29  BsmtUnfSF      1460 non-null   float64\n",
      " 30  MSSubClass     1460 non-null   float64\n",
      " 31  FullBath       1460 non-null   float64\n",
      " 32  GarageArea     1460 non-null   float64\n",
      " 33  TotalBsmtSF    1460 non-null   float64\n",
      " 34  LotFrontage    1460 non-null   float64\n",
      " 35  2ndFlrSF       1460 non-null   float64\n",
      "dtypes: float64(36)\n",
      "memory usage: 410.8 KB\n"
     ]
    }
   ],
   "source": [
    "from sklearn.experimental import enable_iterative_imputer  \n",
    "from sklearn.impute import IterativeImputer\n",
    "from sklearn.impute import SimpleImputer\n",
    "\n",
    "target_label = ['SalePrice']\n",
    "feature_columns = list(set(numerical_features) - set(target_label))\n",
    "\n",
    "it_imputer = IterativeImputer(max_iter=10)\n",
    "train_data = pd.DataFrame(it_imputer.fit_transform(df[feature_columns]),\\\n",
    "                          columns=df[feature_columns].columns)\n",
    "\n",
    "train_data.info()"
   ]
  },
  {
   "cell_type": "markdown",
   "id": "cfb4e6f0",
   "metadata": {
    "papermill": {
     "duration": 0.056947,
     "end_time": "2022-03-17T12:53:58.671474",
     "exception": false,
     "start_time": "2022-03-17T12:53:58.614527",
     "status": "completed"
    },
    "tags": []
   },
   "source": [
    "Linear Regression"
   ]
  },
  {
   "cell_type": "code",
   "execution_count": 20,
   "id": "6ef052f1",
   "metadata": {
    "execution": {
     "iopub.execute_input": "2022-03-17T12:53:58.793467Z",
     "iopub.status.busy": "2022-03-17T12:53:58.792810Z",
     "iopub.status.idle": "2022-03-17T12:53:58.794466Z",
     "shell.execute_reply": "2022-03-17T12:53:58.794914Z",
     "shell.execute_reply.started": "2022-03-17T12:53:15.426214Z"
    },
    "papermill": {
     "duration": 0.065818,
     "end_time": "2022-03-17T12:53:58.795091",
     "exception": false,
     "start_time": "2022-03-17T12:53:58.729273",
     "status": "completed"
    },
    "tags": []
   },
   "outputs": [],
   "source": [
    "X = train_data[feature_columns]\n",
    "y = df[target_label]"
   ]
  },
  {
   "cell_type": "code",
   "execution_count": 21,
   "id": "f5ba7be0",
   "metadata": {
    "execution": {
     "iopub.execute_input": "2022-03-17T12:53:58.915063Z",
     "iopub.status.busy": "2022-03-17T12:53:58.912875Z",
     "iopub.status.idle": "2022-03-17T12:53:58.918192Z",
     "shell.execute_reply": "2022-03-17T12:53:58.918670Z",
     "shell.execute_reply.started": "2022-03-17T12:53:15.451498Z"
    },
    "papermill": {
     "duration": 0.066451,
     "end_time": "2022-03-17T12:53:58.918851",
     "exception": false,
     "start_time": "2022-03-17T12:53:58.852400",
     "status": "completed"
    },
    "tags": []
   },
   "outputs": [
    {
     "data": {
      "text/plain": [
       "(1460, 36)"
      ]
     },
     "execution_count": 21,
     "metadata": {},
     "output_type": "execute_result"
    }
   ],
   "source": [
    "X.shape"
   ]
  },
  {
   "cell_type": "markdown",
   "id": "cf49cdd0",
   "metadata": {
    "papermill": {
     "duration": 0.057682,
     "end_time": "2022-03-17T12:53:59.034530",
     "exception": false,
     "start_time": "2022-03-17T12:53:58.976848",
     "status": "completed"
    },
    "tags": []
   },
   "source": [
    "Feature Scaling"
   ]
  },
  {
   "cell_type": "code",
   "execution_count": 22,
   "id": "d776b3a5",
   "metadata": {
    "execution": {
     "iopub.execute_input": "2022-03-17T12:53:59.156788Z",
     "iopub.status.busy": "2022-03-17T12:53:59.156166Z",
     "iopub.status.idle": "2022-03-17T12:53:59.161002Z",
     "shell.execute_reply": "2022-03-17T12:53:59.160433Z",
     "shell.execute_reply.started": "2022-03-17T12:53:15.480958Z"
    },
    "papermill": {
     "duration": 0.068768,
     "end_time": "2022-03-17T12:53:59.161149",
     "exception": false,
     "start_time": "2022-03-17T12:53:59.092381",
     "status": "completed"
    },
    "tags": []
   },
   "outputs": [],
   "source": [
    "X = (X - X.mean()) / X.std()\n",
    "X = np.c_[np.ones(X.shape[0]), X] "
   ]
  },
  {
   "cell_type": "code",
   "execution_count": 23,
   "id": "c77bb555",
   "metadata": {
    "execution": {
     "iopub.execute_input": "2022-03-17T12:53:59.288659Z",
     "iopub.status.busy": "2022-03-17T12:53:59.288021Z",
     "iopub.status.idle": "2022-03-17T12:53:59.290171Z",
     "shell.execute_reply": "2022-03-17T12:53:59.290739Z",
     "shell.execute_reply.started": "2022-03-17T12:53:15.503733Z"
    },
    "papermill": {
     "duration": 0.071505,
     "end_time": "2022-03-17T12:53:59.290922",
     "exception": false,
     "start_time": "2022-03-17T12:53:59.219417",
     "status": "completed"
    },
    "tags": []
   },
   "outputs": [],
   "source": [
    "class LinearRegressionUsingGD:\n",
    "    \"\"\"Linear Regression Using Gradient Descent.\n",
    "    \n",
    "        Parameters\n",
    "        ----------\n",
    "        eta : float\n",
    "            Learning Rate\n",
    "        n_iterations : int\n",
    "            No of passes over the training set.\n",
    "            \n",
    "        Attributes\n",
    "        __________\n",
    "        w_ : weights after the model.\n",
    "        cost_ : total error of the model after each iteration.\n",
    "                \n",
    "    \"\"\"\n",
    "    \n",
    "    def __init__(self, eta=0.05, n_iterations=1000):\n",
    "        self.eta = eta\n",
    "        self.n_iterations = n_iterations\n",
    "        \n",
    "    def fit(self, x, y):\n",
    "        \"\"\"Fit the training data.\n",
    "        \n",
    "        Parameters\n",
    "        ----------\n",
    "        x : array-like, shape = [n_samples, n_features]\n",
    "            Training samples\n",
    "        y : array-like, shape = [n_samples, n_target_values]\n",
    "            Target values\n",
    "            \n",
    "        Returns\n",
    "        -------\n",
    "        self : object\n",
    "        \"\"\"\n",
    "        \n",
    "        self.cost_ = []\n",
    "        self.w_ = np.zeros((x.shape[1], 1))\n",
    "        m = x.shape[0]\n",
    "        \n",
    "        for _ in range(self.n_iterations):\n",
    "            y_pred = np.dot(x, self.w_)\n",
    "            residuals = y_pred - y\n",
    "            gradient_vector = np.dot(x.T, residuals)\n",
    "            self.w_ -= (self.eta/(m)) * gradient_vector\n",
    "            cost = np.sum(residuals ** 2) / (2 * m)\n",
    "            self.cost_.append(cost)\n",
    "            \n",
    "        return self\n",
    "    \n",
    "    def predict(self, x):\n",
    "        \"\"\" Predicts the value after the model has been trained.\n",
    "        Parameters\n",
    "        ----------\n",
    "        x : array-like, shape = [n_samples, n_features]\n",
    "            Test samples\n",
    "        Returns\n",
    "        -------\n",
    "        Predicted value\n",
    "        \"\"\"\n",
    "        \n",
    "        return np.dot(x, self.w_)"
   ]
  },
  {
   "cell_type": "code",
   "execution_count": 24,
   "id": "67e35ed7",
   "metadata": {
    "execution": {
     "iopub.execute_input": "2022-03-17T12:53:59.413092Z",
     "iopub.status.busy": "2022-03-17T12:53:59.411739Z",
     "iopub.status.idle": "2022-03-17T12:54:03.369845Z",
     "shell.execute_reply": "2022-03-17T12:54:03.370772Z",
     "shell.execute_reply.started": "2022-03-17T12:53:15.786399Z"
    },
    "papermill": {
     "duration": 4.022297,
     "end_time": "2022-03-17T12:54:03.371085",
     "exception": false,
     "start_time": "2022-03-17T12:53:59.348788",
     "status": "completed"
    },
    "tags": []
   },
   "outputs": [],
   "source": [
    "linear_regressor = LinearRegressionUsingGD(0.01, 2000)\n",
    "linear_regressor = linear_regressor.fit(X, y)"
   ]
  },
  {
   "cell_type": "code",
   "execution_count": 25,
   "id": "11aa4b59",
   "metadata": {
    "execution": {
     "iopub.execute_input": "2022-03-17T12:54:03.583571Z",
     "iopub.status.busy": "2022-03-17T12:54:03.562873Z",
     "iopub.status.idle": "2022-03-17T12:54:04.112126Z",
     "shell.execute_reply": "2022-03-17T12:54:04.112649Z",
     "shell.execute_reply.started": "2022-03-17T12:53:20.572013Z"
    },
    "papermill": {
     "duration": 0.629717,
     "end_time": "2022-03-17T12:54:04.112825",
     "exception": false,
     "start_time": "2022-03-17T12:54:03.483108",
     "status": "completed"
    },
    "tags": []
   },
   "outputs": [
    {
     "data": {
      "text/plain": [
       "<AxesSubplot:>"
      ]
     },
     "execution_count": 25,
     "metadata": {},
     "output_type": "execute_result"
    },
    {
     "data": {
      "image/png": "[encoded data removed]",
      "text/plain": [
       "<Figure size 864x576 with 1 Axes>"
      ]
     },
     "metadata": {
      "needs_background": "light"
     },
     "output_type": "display_data"
    }
   ],
   "source": [
    "fig = plt.figure(figsize=(12, 8))\n",
    "sns.lineplot(data=pd.DataFrame(linear_regressor.cost_, range(len(linear_regressor.cost_))))"
   ]
  },
  {
   "cell_type": "markdown",
   "id": "77c4d5fc",
   "metadata": {
    "papermill": {
     "duration": 0.059772,
     "end_time": "2022-03-17T12:54:04.232422",
     "exception": false,
     "start_time": "2022-03-17T12:54:04.172650",
     "status": "completed"
    },
    "tags": []
   },
   "source": [
    "Evaluating the performance of the model"
   ]
  },
  {
   "cell_type": "markdown",
   "id": "92cc0542",
   "metadata": {
    "papermill": {
     "duration": 0.059798,
     "end_time": "2022-03-17T12:54:04.351971",
     "exception": false,
     "start_time": "2022-03-17T12:54:04.292173",
     "status": "completed"
    },
    "tags": []
   },
   "source": [
    "We will be using Root mean squared error(RMSE) and Coefficient of Determination(R² score) to evaluate our model.\n",
    "RMSE is the square root of the average of the sum of the squares of residuals.\n",
    "RMSE is defined by\n",
    "\n",
    "![L](https://miro.medium.com/max/594/1*-j7StdUGMAFvLGx7hD-Nzg.png)\n"
   ]
  },
  {
   "cell_type": "code",
   "execution_count": 26,
   "id": "efb03378",
   "metadata": {
    "execution": {
     "iopub.execute_input": "2022-03-17T12:54:04.474868Z",
     "iopub.status.busy": "2022-03-17T12:54:04.474207Z",
     "iopub.status.idle": "2022-03-17T12:54:04.492856Z",
     "shell.execute_reply": "2022-03-17T12:54:04.493707Z",
     "shell.execute_reply.started": "2022-03-17T12:53:21.265098Z"
    },
    "papermill": {
     "duration": 0.082412,
     "end_time": "2022-03-17T12:54:04.494006",
     "exception": false,
     "start_time": "2022-03-17T12:54:04.411594",
     "status": "completed"
    },
    "tags": []
   },
   "outputs": [
    {
     "name": "stdout",
     "output_type": "stream",
     "text": [
      "SalePrice    1.179131e+09\n",
      "dtype: float64\n",
      "SalePrice    34338.478285\n",
      "dtype: float64\n"
     ]
    }
   ],
   "source": [
    "# mean squared error\n",
    "y_pred = linear_regressor.predict(X)\n",
    "mse = np.sum((y_pred - y)**2)/ X.shape[0]\n",
    "\n",
    "# root mean squared error\n",
    "rmse = np.sqrt(mse)\n",
    "print(mse)\n",
    "print(rmse)"
   ]
  },
  {
   "cell_type": "code",
   "execution_count": 27,
   "id": "38efa2f2",
   "metadata": {
    "execution": {
     "iopub.execute_input": "2022-03-17T12:54:04.668868Z",
     "iopub.status.busy": "2022-03-17T12:54:04.668245Z",
     "iopub.status.idle": "2022-03-17T12:54:04.677441Z",
     "shell.execute_reply": "2022-03-17T12:54:04.677949Z",
     "shell.execute_reply.started": "2022-03-17T12:53:21.281259Z"
    },
    "papermill": {
     "duration": 0.075206,
     "end_time": "2022-03-17T12:54:04.678128",
     "exception": false,
     "start_time": "2022-03-17T12:54:04.602922",
     "status": "completed"
    },
    "tags": []
   },
   "outputs": [
    {
     "name": "stdout",
     "output_type": "stream",
     "text": [
      "SalePrice    1.721531e+12\n",
      "dtype: float64\n",
      "SalePrice    9.207911e+12\n",
      "dtype: float64\n",
      "SalePrice    0.813038\n",
      "dtype: float64\n"
     ]
    }
   ],
   "source": [
    "# sum of square of residuals\n",
    "ssr = np.sum((y_pred - y)**2)\n",
    "print(ssr)\n",
    "#  total sum of squares\n",
    "sst = np.sum((y - np.mean(y))**2)\n",
    "print(sst)\n",
    "# R2 score\n",
    "r2_score = 1 - (ssr/sst)\n",
    "print(r2_score)"
   ]
  },
  {
   "cell_type": "markdown",
   "id": "43c3b6de",
   "metadata": {
    "papermill": {
     "duration": 0.062465,
     "end_time": "2022-03-17T12:54:04.800994",
     "exception": false,
     "start_time": "2022-03-17T12:54:04.738529",
     "status": "completed"
    },
    "tags": []
   },
   "source": [
    "Predict House Price for test data"
   ]
  },
  {
   "cell_type": "code",
   "execution_count": 28,
   "id": "99bba1d0",
   "metadata": {
    "execution": {
     "iopub.execute_input": "2022-03-17T12:54:04.927960Z",
     "iopub.status.busy": "2022-03-17T12:54:04.925362Z",
     "iopub.status.idle": "2022-03-17T12:54:04.970040Z",
     "shell.execute_reply": "2022-03-17T12:54:04.969502Z",
     "shell.execute_reply.started": "2022-03-17T12:53:21.306669Z"
    },
    "papermill": {
     "duration": 0.108346,
     "end_time": "2022-03-17T12:54:04.970187",
     "exception": false,
     "start_time": "2022-03-17T12:54:04.861841",
     "status": "completed"
    },
    "tags": []
   },
   "outputs": [],
   "source": [
    "test_data = pd.read_csv(os.path.join(dirname, 'test.csv'))\n",
    "\n",
    "# Prepare test data\n",
    "test_data_id = test_data['Id']\n",
    "test_data.drop(columns=feature_col_drop, inplace=True)\n",
    "test_data = it_imputer.transform(test_data[feature_columns])"
   ]
  },
  {
   "cell_type": "markdown",
   "id": "872e1e9a",
   "metadata": {
    "papermill": {
     "duration": 0.05965,
     "end_time": "2022-03-17T12:54:05.090056",
     "exception": false,
     "start_time": "2022-03-17T12:54:05.030406",
     "status": "completed"
    },
    "tags": []
   },
   "source": [
    "Feature Scaling for test data"
   ]
  },
  {
   "cell_type": "code",
   "execution_count": 29,
   "id": "bbb6f1ed",
   "metadata": {
    "execution": {
     "iopub.execute_input": "2022-03-17T12:54:05.214546Z",
     "iopub.status.busy": "2022-03-17T12:54:05.213909Z",
     "iopub.status.idle": "2022-03-17T12:54:05.221372Z",
     "shell.execute_reply": "2022-03-17T12:54:05.220692Z",
     "shell.execute_reply.started": "2022-03-17T12:53:21.390645Z"
    },
    "papermill": {
     "duration": 0.071344,
     "end_time": "2022-03-17T12:54:05.221522",
     "exception": false,
     "start_time": "2022-03-17T12:54:05.150178",
     "status": "completed"
    },
    "tags": []
   },
   "outputs": [],
   "source": [
    "test_data = (test_data - test_data.mean()) / test_data.std()\n",
    "test_data = np.c_[np.ones(test_data.shape[0]), test_data]"
   ]
  },
  {
   "cell_type": "markdown",
   "id": "72f1152d",
   "metadata": {
    "papermill": {
     "duration": 0.05964,
     "end_time": "2022-03-17T12:54:05.341806",
     "exception": false,
     "start_time": "2022-03-17T12:54:05.282166",
     "status": "completed"
    },
    "tags": []
   },
   "source": [
    "Predict for test data"
   ]
  },
  {
   "cell_type": "code",
   "execution_count": 30,
   "id": "65922e6b",
   "metadata": {
    "execution": {
     "iopub.execute_input": "2022-03-17T12:54:05.465182Z",
     "iopub.status.busy": "2022-03-17T12:54:05.464506Z",
     "iopub.status.idle": "2022-03-17T12:54:05.489265Z",
     "shell.execute_reply": "2022-03-17T12:54:05.490356Z",
     "shell.execute_reply.started": "2022-03-17T12:53:21.400297Z"
    },
    "papermill": {
     "duration": 0.089251,
     "end_time": "2022-03-17T12:54:05.490647",
     "exception": false,
     "start_time": "2022-03-17T12:54:05.401396",
     "status": "completed"
    },
    "tags": []
   },
   "outputs": [
    {
     "name": "stdout",
     "output_type": "stream",
     "text": [
      "0       1461\n",
      "1       1462\n",
      "2       1463\n",
      "3       1464\n",
      "4       1465\n",
      "        ... \n",
      "1454    2915\n",
      "1455    2916\n",
      "1456    2917\n",
      "1457    2918\n",
      "1458    2919\n",
      "Name: Id, Length: 1459, dtype: int64\n"
     ]
    }
   ],
   "source": [
    "test_pred = linear_regressor.predict(test_data)\n",
    "# print(pd.DataFrame(test_pred)[0])\n",
    "print(test_data_id)\n",
    "output = pd.DataFrame({'Id': test_data_id,\n",
    "                       'SalePrice': pd.DataFrame(test_pred)[0]})\n",
    "output.to_csv('submission.csv', index=False)"
   ]
  }
 ],
 "metadata": {
  "kernelspec": {
   "display_name": "Python 3",
   "language": "python",
   "name": "python3"
  },
  "language_info": {
   "codemirror_mode": {
    "name": "ipython",
    "version": 3
   },
   "file_extension": ".py",
   "mimetype": "text/x-python",
   "name": "python",
   "nbconvert_exporter": "python",
   "pygments_lexer": "ipython3",
   "version": "3.7.12"
  },
  "papermill": {
   "default_parameters": {},
   "duration": 25.900457,
   "end_time": "2022-03-17T12:54:06.407159",
   "environment_variables": {},
   "exception": null,
   "input_path": "__notebook__.ipynb",
   "output_path": "__notebook__.ipynb",
   "parameters": {},
   "start_time": "2022-03-17T12:53:40.506702",
   "version": "2.3.3"
  }
 },
 "nbformat": 4,
 "nbformat_minor": 5
}
